{
 "cells": [
  {
   "cell_type": "markdown",
   "id": "4df18cca",
   "metadata": {},
   "source": [
    "## Mechanical properties prediction of low alloy steels based on their material compositions by weight percentages  \n",
    "\n",
    "###### Dataset: https://www.kaggle.com/rohannemade/mechanical-properties-of-low-alloy-steels"
   ]
  },
  {
   "cell_type": "code",
   "execution_count": 4,
   "id": "7d98a75d",
   "metadata": {},
   "outputs": [],
   "source": [
    "import pandas as pd\n",
    "import numpy as np\n",
    "import matplotlib.pyplot as plt\n",
    "import seaborn as sns"
   ]
  },
  {
   "cell_type": "code",
   "execution_count": 5,
   "id": "3eb70827",
   "metadata": {},
   "outputs": [
    {
     "data": {
      "text/html": [
       "<div>\n",
       "<style scoped>\n",
       "    .dataframe tbody tr th:only-of-type {\n",
       "        vertical-align: middle;\n",
       "    }\n",
       "\n",
       "    .dataframe tbody tr th {\n",
       "        vertical-align: top;\n",
       "    }\n",
       "\n",
       "    .dataframe thead th {\n",
       "        text-align: right;\n",
       "    }\n",
       "</style>\n",
       "<table border=\"1\" class=\"dataframe\">\n",
       "  <thead>\n",
       "    <tr style=\"text-align: right;\">\n",
       "      <th></th>\n",
       "      <th>0</th>\n",
       "      <th>1</th>\n",
       "      <th>2</th>\n",
       "      <th>3</th>\n",
       "      <th>4</th>\n",
       "    </tr>\n",
       "  </thead>\n",
       "  <tbody>\n",
       "    <tr>\n",
       "      <th>Alloy code</th>\n",
       "      <td>MBB</td>\n",
       "      <td>MBB</td>\n",
       "      <td>MBB</td>\n",
       "      <td>MBB</td>\n",
       "      <td>MBB</td>\n",
       "    </tr>\n",
       "    <tr>\n",
       "      <th>C</th>\n",
       "      <td>0.12</td>\n",
       "      <td>0.12</td>\n",
       "      <td>0.12</td>\n",
       "      <td>0.12</td>\n",
       "      <td>0.12</td>\n",
       "    </tr>\n",
       "    <tr>\n",
       "      <th>Si</th>\n",
       "      <td>0.36</td>\n",
       "      <td>0.36</td>\n",
       "      <td>0.36</td>\n",
       "      <td>0.36</td>\n",
       "      <td>0.36</td>\n",
       "    </tr>\n",
       "    <tr>\n",
       "      <th>Mn</th>\n",
       "      <td>0.52</td>\n",
       "      <td>0.52</td>\n",
       "      <td>0.52</td>\n",
       "      <td>0.52</td>\n",
       "      <td>0.52</td>\n",
       "    </tr>\n",
       "    <tr>\n",
       "      <th>P</th>\n",
       "      <td>0.009</td>\n",
       "      <td>0.009</td>\n",
       "      <td>0.009</td>\n",
       "      <td>0.009</td>\n",
       "      <td>0.009</td>\n",
       "    </tr>\n",
       "    <tr>\n",
       "      <th>S</th>\n",
       "      <td>0.003</td>\n",
       "      <td>0.003</td>\n",
       "      <td>0.003</td>\n",
       "      <td>0.003</td>\n",
       "      <td>0.003</td>\n",
       "    </tr>\n",
       "    <tr>\n",
       "      <th>Ni</th>\n",
       "      <td>0.089</td>\n",
       "      <td>0.089</td>\n",
       "      <td>0.089</td>\n",
       "      <td>0.089</td>\n",
       "      <td>0.089</td>\n",
       "    </tr>\n",
       "    <tr>\n",
       "      <th>Cr</th>\n",
       "      <td>0.97</td>\n",
       "      <td>0.97</td>\n",
       "      <td>0.97</td>\n",
       "      <td>0.97</td>\n",
       "      <td>0.97</td>\n",
       "    </tr>\n",
       "    <tr>\n",
       "      <th>Mo</th>\n",
       "      <td>0.61</td>\n",
       "      <td>0.61</td>\n",
       "      <td>0.61</td>\n",
       "      <td>0.61</td>\n",
       "      <td>0.61</td>\n",
       "    </tr>\n",
       "    <tr>\n",
       "      <th>Cu</th>\n",
       "      <td>0.04</td>\n",
       "      <td>0.04</td>\n",
       "      <td>0.04</td>\n",
       "      <td>0.04</td>\n",
       "      <td>0.04</td>\n",
       "    </tr>\n",
       "    <tr>\n",
       "      <th>V</th>\n",
       "      <td>0.0</td>\n",
       "      <td>0.0</td>\n",
       "      <td>0.0</td>\n",
       "      <td>0.0</td>\n",
       "      <td>0.0</td>\n",
       "    </tr>\n",
       "    <tr>\n",
       "      <th>Al</th>\n",
       "      <td>0.003</td>\n",
       "      <td>0.003</td>\n",
       "      <td>0.003</td>\n",
       "      <td>0.003</td>\n",
       "      <td>0.003</td>\n",
       "    </tr>\n",
       "    <tr>\n",
       "      <th>N</th>\n",
       "      <td>0.0066</td>\n",
       "      <td>0.0066</td>\n",
       "      <td>0.0066</td>\n",
       "      <td>0.0066</td>\n",
       "      <td>0.0066</td>\n",
       "    </tr>\n",
       "    <tr>\n",
       "      <th>Ceq</th>\n",
       "      <td>0.0</td>\n",
       "      <td>0.0</td>\n",
       "      <td>0.0</td>\n",
       "      <td>0.0</td>\n",
       "      <td>0.0</td>\n",
       "    </tr>\n",
       "    <tr>\n",
       "      <th>Nb + Ta</th>\n",
       "      <td>0.0</td>\n",
       "      <td>0.0</td>\n",
       "      <td>0.0</td>\n",
       "      <td>0.0</td>\n",
       "      <td>0.0</td>\n",
       "    </tr>\n",
       "    <tr>\n",
       "      <th>Temperature (°C)</th>\n",
       "      <td>27</td>\n",
       "      <td>100</td>\n",
       "      <td>200</td>\n",
       "      <td>300</td>\n",
       "      <td>400</td>\n",
       "    </tr>\n",
       "    <tr>\n",
       "      <th>0.2% Proof Stress (MPa)</th>\n",
       "      <td>342</td>\n",
       "      <td>338</td>\n",
       "      <td>337</td>\n",
       "      <td>346</td>\n",
       "      <td>316</td>\n",
       "    </tr>\n",
       "    <tr>\n",
       "      <th>Tensile Strength (MPa)</th>\n",
       "      <td>490</td>\n",
       "      <td>454</td>\n",
       "      <td>465</td>\n",
       "      <td>495</td>\n",
       "      <td>489</td>\n",
       "    </tr>\n",
       "    <tr>\n",
       "      <th>Elongation (%)</th>\n",
       "      <td>30</td>\n",
       "      <td>27</td>\n",
       "      <td>23</td>\n",
       "      <td>21</td>\n",
       "      <td>26</td>\n",
       "    </tr>\n",
       "    <tr>\n",
       "      <th>Reduction in Area (%)</th>\n",
       "      <td>71</td>\n",
       "      <td>72</td>\n",
       "      <td>69</td>\n",
       "      <td>70</td>\n",
       "      <td>79</td>\n",
       "    </tr>\n",
       "  </tbody>\n",
       "</table>\n",
       "</div>"
      ],
      "text/plain": [
       "                               0       1       2       3       4\n",
       "Alloy code                   MBB     MBB     MBB     MBB     MBB\n",
       " C                          0.12    0.12    0.12    0.12    0.12\n",
       " Si                         0.36    0.36    0.36    0.36    0.36\n",
       " Mn                         0.52    0.52    0.52    0.52    0.52\n",
       " P                         0.009   0.009   0.009   0.009   0.009\n",
       " S                         0.003   0.003   0.003   0.003   0.003\n",
       " Ni                        0.089   0.089   0.089   0.089   0.089\n",
       " Cr                         0.97    0.97    0.97    0.97    0.97\n",
       " Mo                         0.61    0.61    0.61    0.61    0.61\n",
       " Cu                         0.04    0.04    0.04    0.04    0.04\n",
       "V                            0.0     0.0     0.0     0.0     0.0\n",
       " Al                        0.003   0.003   0.003   0.003   0.003\n",
       " N                        0.0066  0.0066  0.0066  0.0066  0.0066\n",
       "Ceq                          0.0     0.0     0.0     0.0     0.0\n",
       "Nb + Ta                      0.0     0.0     0.0     0.0     0.0\n",
       " Temperature (°C)             27     100     200     300     400\n",
       " 0.2% Proof Stress (MPa)     342     338     337     346     316\n",
       " Tensile Strength (MPa)      490     454     465     495     489\n",
       " Elongation (%)               30      27      23      21      26\n",
       " Reduction in Area (%)        71      72      69      70      79"
      ]
     },
     "execution_count": 5,
     "metadata": {},
     "output_type": "execute_result"
    }
   ],
   "source": [
    "data=pd.read_csv(\"MatNavi Mechanical properties of low-alloy steels.csv\")\n",
    "data.head().T"
   ]
  },
  {
   "cell_type": "code",
   "execution_count": 6,
   "id": "fdef804f",
   "metadata": {},
   "outputs": [
    {
     "name": "stdout",
     "output_type": "stream",
     "text": [
      "<class 'pandas.core.frame.DataFrame'>\n",
      "RangeIndex: 915 entries, 0 to 914\n",
      "Data columns (total 20 columns):\n",
      " #   Column                    Non-Null Count  Dtype  \n",
      "---  ------                    --------------  -----  \n",
      " 0   Alloy code                915 non-null    object \n",
      " 1    C                        915 non-null    float64\n",
      " 2    Si                       915 non-null    float64\n",
      " 3    Mn                       915 non-null    float64\n",
      " 4    P                        915 non-null    float64\n",
      " 5    S                        915 non-null    float64\n",
      " 6    Ni                       915 non-null    float64\n",
      " 7    Cr                       915 non-null    float64\n",
      " 8    Mo                       915 non-null    float64\n",
      " 9    Cu                       915 non-null    float64\n",
      " 10  V                         915 non-null    float64\n",
      " 11   Al                       915 non-null    float64\n",
      " 12   N                        915 non-null    float64\n",
      " 13  Ceq                       915 non-null    float64\n",
      " 14  Nb + Ta                   915 non-null    float64\n",
      " 15   Temperature (°C)         915 non-null    int64  \n",
      " 16   0.2% Proof Stress (MPa)  915 non-null    int64  \n",
      " 17   Tensile Strength (MPa)   915 non-null    int64  \n",
      " 18   Elongation (%)           915 non-null    int64  \n",
      " 19   Reduction in Area (%)    915 non-null    int64  \n",
      "dtypes: float64(14), int64(5), object(1)\n",
      "memory usage: 143.1+ KB\n"
     ]
    }
   ],
   "source": [
    "data.info()"
   ]
  },
  {
   "cell_type": "code",
   "execution_count": 7,
   "id": "f32ec72d",
   "metadata": {},
   "outputs": [
    {
     "data": {
      "text/plain": [
       "Alloy code                  0\n",
       " C                          0\n",
       " Si                         0\n",
       " Mn                         0\n",
       " P                          0\n",
       " S                          0\n",
       " Ni                         0\n",
       " Cr                         0\n",
       " Mo                         0\n",
       " Cu                         0\n",
       "V                           0\n",
       " Al                         0\n",
       " N                          0\n",
       "Ceq                         0\n",
       "Nb + Ta                     0\n",
       " Temperature (°C)           0\n",
       " 0.2% Proof Stress (MPa)    0\n",
       " Tensile Strength (MPa)     0\n",
       " Elongation (%)             0\n",
       " Reduction in Area (%)      0\n",
       "dtype: int64"
      ]
     },
     "execution_count": 7,
     "metadata": {},
     "output_type": "execute_result"
    }
   ],
   "source": [
    "data.isnull().sum()"
   ]
  },
  {
   "cell_type": "code",
   "execution_count": 8,
   "id": "1d254003",
   "metadata": {},
   "outputs": [
    {
     "name": "stdout",
     "output_type": "stream",
     "text": [
      "Head of dataframe:\n",
      "\n",
      "  Alloy code     C    Si    Mn      P      S     Ni    Cr    Mo    Cu    V  \\\n",
      "0        MBB  0.12  0.36  0.52  0.009  0.003  0.089  0.97  0.61  0.04  0.0   \n",
      "1        MBB  0.12  0.36  0.52  0.009  0.003  0.089  0.97  0.61  0.04  0.0   \n",
      "2        MBB  0.12  0.36  0.52  0.009  0.003  0.089  0.97  0.61  0.04  0.0   \n",
      "3        MBB  0.12  0.36  0.52  0.009  0.003  0.089  0.97  0.61  0.04  0.0   \n",
      "4        MBB  0.12  0.36  0.52  0.009  0.003  0.089  0.97  0.61  0.04  0.0   \n",
      "\n",
      "      Al       N  Ceq  Nb + Ta   Temperature (°C)   0.2% Proof Stress (MPa)  \\\n",
      "0  0.003  0.0066  0.0      0.0                 27                       342   \n",
      "1  0.003  0.0066  0.0      0.0                100                       338   \n",
      "2  0.003  0.0066  0.0      0.0                200                       337   \n",
      "3  0.003  0.0066  0.0      0.0                300                       346   \n",
      "4  0.003  0.0066  0.0      0.0                400                       316   \n",
      "\n",
      "    Tensile Strength (MPa)   Elongation (%)   Reduction in Area (%)  \n",
      "0                      490               30                      71  \n",
      "1                      454               27                      72  \n",
      "2                      465               23                      69  \n",
      "3                      495               21                      70  \n",
      "4                      489               26                      79  \n",
      "- - - - - - - - - - - - - - - - - - - - - - - -\n",
      "\n",
      "Tail of dataframe:\n",
      "\n",
      "    Alloy code     C    Si    Mn      P      S    Ni    Cr     Mo    Cu  \\\n",
      "910        CCB  0.22  0.22  1.24  0.021  0.008  0.03  0.05  0.017  0.01   \n",
      "911        CCB  0.22  0.22  1.24  0.021  0.008  0.03  0.05  0.017  0.01   \n",
      "912        CCB  0.22  0.22  1.24  0.021  0.008  0.03  0.05  0.017  0.01   \n",
      "913        CCB  0.22  0.22  1.24  0.021  0.008  0.03  0.05  0.017  0.01   \n",
      "914        CCB  0.22  0.22  1.24  0.021  0.008  0.03  0.05  0.017  0.01   \n",
      "\n",
      "         V     Al       N  Ceq  Nb + Ta   Temperature (°C)  \\\n",
      "910  0.005  0.005  0.0116  0.0   0.0017                350   \n",
      "911  0.005  0.005  0.0116  0.0   0.0017                400   \n",
      "912  0.005  0.005  0.0116  0.0   0.0017                450   \n",
      "913  0.005  0.005  0.0116  0.0   0.0017                500   \n",
      "914  0.005  0.005  0.0116  0.0   0.0017                550   \n",
      "\n",
      "      0.2% Proof Stress (MPa)   Tensile Strength (MPa)   Elongation (%)  \\\n",
      "910                       268                      632               28   \n",
      "911                       244                      575               28   \n",
      "912                       224                      500               29   \n",
      "913                       209                      428               30   \n",
      "914                       200                      328               40   \n",
      "\n",
      "      Reduction in Area (%)  \n",
      "910                      65  \n",
      "911                      68  \n",
      "912                      72  \n",
      "913                      78  \n",
      "914                      86  \n",
      "- - - - - - - - - - - - - - - - - - - - - - - -\n",
      "\n",
      "Names of existing columns:\n",
      "\n",
      "Index(['Alloy code', ' C', ' Si', ' Mn', ' P', ' S', ' Ni', ' Cr', ' Mo',\n",
      "       ' Cu', 'V', ' Al', ' N', 'Ceq', 'Nb + Ta', ' Temperature (°C)',\n",
      "       ' 0.2% Proof Stress (MPa)', ' Tensile Strength (MPa)',\n",
      "       ' Elongation (%)', ' Reduction in Area (%)'],\n",
      "      dtype='object')\n",
      "- - - - - - - - - - - - - - - - - - - - - - - -\n",
      "\n",
      "Data types of the existing columns:\n",
      "\n",
      "<class 'pandas.core.frame.DataFrame'>\n",
      "RangeIndex: 915 entries, 0 to 914\n",
      "Data columns (total 20 columns):\n",
      " #   Column                    Non-Null Count  Dtype  \n",
      "---  ------                    --------------  -----  \n",
      " 0   Alloy code                915 non-null    object \n",
      " 1    C                        915 non-null    float64\n",
      " 2    Si                       915 non-null    float64\n",
      " 3    Mn                       915 non-null    float64\n",
      " 4    P                        915 non-null    float64\n",
      " 5    S                        915 non-null    float64\n",
      " 6    Ni                       915 non-null    float64\n",
      " 7    Cr                       915 non-null    float64\n",
      " 8    Mo                       915 non-null    float64\n",
      " 9    Cu                       915 non-null    float64\n",
      " 10  V                         915 non-null    float64\n",
      " 11   Al                       915 non-null    float64\n",
      " 12   N                        915 non-null    float64\n",
      " 13  Ceq                       915 non-null    float64\n",
      " 14  Nb + Ta                   915 non-null    float64\n",
      " 15   Temperature (°C)         915 non-null    int64  \n",
      " 16   0.2% Proof Stress (MPa)  915 non-null    int64  \n",
      " 17   Tensile Strength (MPa)   915 non-null    int64  \n",
      " 18   Elongation (%)           915 non-null    int64  \n",
      " 19   Reduction in Area (%)    915 non-null    int64  \n",
      "dtypes: float64(14), int64(5), object(1)\n",
      "memory usage: 143.1+ KB\n",
      "None\n",
      "- - - - - - - - - - - - - - - - - - - - - - - -\n",
      "\n",
      "Numbers of columns with same data type:\n",
      "\n",
      "float64    14\n",
      "int64       5\n",
      "object      1\n",
      "dtype: int64\n",
      "- - - - - - - - - - - - - - - - - - - - - - - -\n",
      "\n",
      "Memory usage of each column:\n",
      "\n",
      "Index                        128\n",
      "Alloy code                  7320\n",
      " C                          7320\n",
      " Si                         7320\n",
      " Mn                         7320\n",
      " P                          7320\n",
      " S                          7320\n",
      " Ni                         7320\n",
      " Cr                         7320\n",
      " Mo                         7320\n",
      " Cu                         7320\n",
      "V                           7320\n",
      " Al                         7320\n",
      " N                          7320\n",
      "Ceq                         7320\n",
      "Nb + Ta                     7320\n",
      " Temperature (°C)           7320\n",
      " 0.2% Proof Stress (MPa)    7320\n",
      " Tensile Strength (MPa)     7320\n",
      " Elongation (%)             7320\n",
      " Reduction in Area (%)      7320\n",
      "dtype: int64\n",
      "- - - - - - - - - - - - - - - - - - - - - - - -\n",
      "\n",
      "Shape of the dataframe (rows/columns):\n",
      "\n",
      "There are 915 rows and 20 columns in this dataframe.\n",
      "- - - - - - - - - - - - - - - - - - - - - - - -\n",
      "\n",
      "Number of occuring duplicates in the dataframe:\n",
      "\n",
      "There are 0 duplicated rows in the dataframe.\n",
      "- - - - - - - - - - - - - - - - - - - - - - - -\n",
      "\n",
      "Number of occuring NULL/NA values per column:\n",
      "\n",
      "Alloy code                  0\n",
      " C                          0\n",
      " Si                         0\n",
      " Mn                         0\n",
      " P                          0\n",
      " S                          0\n",
      " Ni                         0\n",
      " Cr                         0\n",
      " Mo                         0\n",
      " Cu                         0\n",
      "V                           0\n",
      " Al                         0\n",
      " N                          0\n",
      "Ceq                         0\n",
      "Nb + Ta                     0\n",
      " Temperature (°C)           0\n",
      " 0.2% Proof Stress (MPa)    0\n",
      " Tensile Strength (MPa)     0\n",
      " Elongation (%)             0\n",
      " Reduction in Area (%)      0\n",
      "dtype: int64\n",
      "- - - - - - - - - - - - - - - - - - - - - - - -\n",
      "\n",
      "Number of occuring unique values per column:\n",
      "\n",
      "Alloy code                   95\n",
      " C                           24\n",
      " Si                          32\n",
      " Mn                          57\n",
      " P                           22\n",
      " S                           19\n",
      " Ni                          44\n",
      " Cr                          56\n",
      " Mo                          51\n",
      " Cu                          24\n",
      "V                            20\n",
      " Al                          31\n",
      " N                           57\n",
      "Ceq                          16\n",
      "Nb + Ta                       2\n",
      " Temperature (°C)            13\n",
      " 0.2% Proof Stress (MPa)    382\n",
      " Tensile Strength (MPa)     399\n",
      " Elongation (%)              51\n",
      " Reduction in Area (%)       61\n",
      "dtype: int64\n",
      "- - - - - - - - - - - - - - - - - - - - - - - -\n",
      "\n",
      "Standard statistics for each column:\n",
      "\n",
      "                C          Si          Mn           P           S          Ni  \\\n",
      "count  915.000000  915.000000  915.000000  915.000000  915.000000  915.000000   \n",
      "mean     0.174929    0.310918    0.812962    0.014543    0.010602    0.143016   \n",
      "std      0.059674    0.086871    0.342775    0.005244    0.004024    0.172746   \n",
      "min      0.090000    0.180000    0.420000    0.006000    0.003000    0.000000   \n",
      "25%      0.130000    0.240000    0.500000    0.010000    0.008000    0.023000   \n",
      "50%      0.160000    0.300000    0.680000    0.014000    0.010000    0.050000   \n",
      "75%      0.200000    0.370000    1.210000    0.018000    0.012000    0.210000   \n",
      "max      0.340000    0.520000    1.480000    0.030000    0.022000    0.600000   \n",
      "\n",
      "               Cr          Mo          Cu           V          Al           N  \\\n",
      "count  915.000000  915.000000  915.000000  915.000000  915.000000  915.000000   \n",
      "mean     0.427861    0.442870    0.079148    0.060190    0.012435    0.007652   \n",
      "std      0.457568    0.394383    0.058481    0.096403    0.013067    0.002321   \n",
      "min      0.000000    0.005000    0.000000    0.000000    0.002000    0.002500   \n",
      "25%      0.040000    0.050000    0.040000    0.000000    0.004000    0.006200   \n",
      "50%      0.110000    0.500000    0.070000    0.000000    0.006000    0.007600   \n",
      "75%      1.000000    0.560000    0.110000    0.070000    0.016000    0.009000   \n",
      "max      1.310000    1.350000    0.250000    0.300000    0.050000    0.015000   \n",
      "\n",
      "              Ceq     Nb + Ta   Temperature (°C)   0.2% Proof Stress (MPa)  \\\n",
      "count  915.000000  915.000000         915.000000                915.000000   \n",
      "mean     0.093989    0.000041         351.601093                328.218579   \n",
      "std      0.172533    0.000261         189.714773                131.653232   \n",
      "min      0.000000    0.000000          27.000000                 27.000000   \n",
      "25%      0.000000    0.000000         200.000000                220.000000   \n",
      "50%      0.000000    0.000000         400.000000                290.000000   \n",
      "75%      0.000000    0.000000         500.000000                432.500000   \n",
      "max      0.437000    0.001700         650.000000                690.000000   \n",
      "\n",
      "        Tensile Strength (MPa)   Elongation (%)   Reduction in Area (%)  \n",
      "count               915.000000       915.000000              915.000000  \n",
      "mean                496.248087        26.789071               70.206557  \n",
      "std                 239.710650         8.806595               12.389289  \n",
      "min                 162.000000        10.000000               18.000000  \n",
      "25%                 413.000000        20.000000               62.000000  \n",
      "50%                 479.000000        26.000000               71.000000  \n",
      "75%                 575.000000        31.000000               80.000000  \n",
      "max                6661.000000        78.000000               94.000000  \n"
     ]
    },
    {
     "name": "stdout",
     "output_type": "stream",
     "text": [
      "- - - - - - - - - - - - - - - - - - - - - - - -\n",
      "\n",
      "Correlations between columns:\n",
      "\n",
      "                                 C        Si        Mn         P         S  \\\n",
      " C                        1.000000 -0.406268  0.031015  0.057410  0.012504   \n",
      " Si                      -0.406268  1.000000  0.223586  0.138152 -0.075110   \n",
      " Mn                       0.031015  0.223586  1.000000  0.243866 -0.046163   \n",
      " P                        0.057410  0.138152  0.243866  1.000000  0.179914   \n",
      " S                        0.012504 -0.075110 -0.046163  0.179914  1.000000   \n",
      " Ni                       0.285788 -0.079105  0.454195 -0.143954  0.066504   \n",
      " Cr                       0.018243  0.117414 -0.474269 -0.138566  0.006354   \n",
      " Mo                       0.255056 -0.027114 -0.405436 -0.386247 -0.054794   \n",
      " Cu                       0.370774 -0.104919  0.104023 -0.022641  0.086668   \n",
      "V                         0.385099  0.199058  0.007679 -0.081315  0.048468   \n",
      " Al                      -0.263321  0.390031  0.694037  0.253681  0.142494   \n",
      " N                        0.035579 -0.122928 -0.236880 -0.255824 -0.171404   \n",
      "Ceq                      -0.273288  0.371245  0.736526  0.200261  0.059971   \n",
      "Nb + Ta                   0.131773 -0.155321  0.193360  0.283206 -0.023504   \n",
      " Temperature (°C)        -0.025522  0.037010 -0.022865 -0.029672 -0.003932   \n",
      " 0.2% Proof Stress (MPa)  0.198420  0.269033  0.399340 -0.042454  0.021205   \n",
      " Tensile Strength (MPa)   0.123722  0.066060  0.115703  0.014310  0.049277   \n",
      " Elongation (%)          -0.148794 -0.124037 -0.123131  0.127121 -0.042973   \n",
      " Reduction in Area (%)   -0.277629  0.161944  0.103369  0.037407 -0.127908   \n",
      "\n",
      "                                Ni        Cr        Mo        Cu         V  \\\n",
      " C                        0.285788  0.018243  0.255056  0.370774  0.385099   \n",
      " Si                      -0.079105  0.117414 -0.027114 -0.104919  0.199058   \n",
      " Mn                       0.454195 -0.474269 -0.405436  0.104023  0.007679   \n",
      " P                       -0.143954 -0.138566 -0.386247 -0.022641 -0.081315   \n",
      " S                        0.066504  0.006354 -0.054794  0.086668  0.048468   \n",
      " Ni                       1.000000  0.125985  0.332420  0.578134  0.341024   \n",
      " Cr                       0.125985  1.000000  0.795223  0.199199  0.631938   \n",
      " Mo                       0.332420  0.795223  1.000000  0.296401  0.722976   \n",
      " Cu                       0.578134  0.199199  0.296401  1.000000  0.294993   \n",
      "V                         0.341024  0.631938  0.722976  0.294993  1.000000   \n",
      " Al                       0.163561 -0.395500 -0.484443 -0.262760 -0.122061   \n",
      " N                        0.132059  0.454140  0.348385  0.201425  0.232178   \n",
      "Ceq                       0.101914 -0.407968 -0.542066 -0.201816 -0.062567   \n",
      "Nb + Ta                  -0.102744 -0.131404 -0.169583 -0.185688 -0.086649   \n",
      " Temperature (°C)         0.035333  0.092325  0.086194  0.024749  0.066731   \n",
      " 0.2% Proof Stress (MPa)  0.474990  0.254899  0.361247  0.200388  0.636588   \n",
      " Tensile Strength (MPa)   0.141140  0.122122  0.172995  0.066212  0.300307   \n",
      " Elongation (%)          -0.291701 -0.303170 -0.411885 -0.178647 -0.501546   \n",
      " Reduction in Area (%)   -0.019360 -0.053949 -0.173894 -0.179090 -0.210469   \n",
      "\n",
      "                                Al         N       Ceq   Nb + Ta  \\\n",
      " C                       -0.263321  0.035579 -0.273288  0.131773   \n",
      " Si                       0.390031 -0.122928  0.371245 -0.155321   \n",
      " Mn                       0.694037 -0.236880  0.736526  0.193360   \n",
      " P                        0.253681 -0.255824  0.200261  0.283206   \n",
      " S                        0.142494 -0.171404  0.059971 -0.023504   \n",
      " Ni                       0.163561  0.132059  0.101914 -0.102744   \n",
      " Cr                      -0.395500  0.454140 -0.407968 -0.131404   \n",
      " Mo                      -0.484443  0.348385 -0.542066 -0.169583   \n",
      " Cu                      -0.262760  0.201425 -0.201816 -0.185688   \n",
      "V                        -0.122061  0.232178 -0.062567 -0.086649   \n",
      " Al                       1.000000 -0.393567  0.815686 -0.101378   \n",
      " N                       -0.393567  1.000000 -0.333586  0.250212   \n",
      "Ceq                       0.815686 -0.333586  1.000000 -0.085552   \n",
      "Nb + Ta                  -0.101378  0.250212 -0.085552  1.000000   \n",
      " Temperature (°C)        -0.012898  0.025990 -0.011214 -0.044446   \n",
      " 0.2% Proof Stress (MPa)  0.258767  0.024112  0.315654 -0.041306   \n",
      " Tensile Strength (MPa)   0.077277  0.028585  0.065333  0.051117   \n",
      " Elongation (%)           0.001293 -0.106271 -0.019481 -0.008397   \n",
      " Reduction in Area (%)    0.226034 -0.079783  0.231229 -0.075792   \n",
      "\n",
      "                           Temperature (°C)   0.2% Proof Stress (MPa)  \\\n",
      " C                                -0.025522                  0.198420   \n",
      " Si                                0.037010                  0.269033   \n",
      " Mn                               -0.022865                  0.399340   \n",
      " P                                -0.029672                 -0.042454   \n",
      " S                                -0.003932                  0.021205   \n",
      " Ni                                0.035333                  0.474990   \n",
      " Cr                                0.092325                  0.254899   \n",
      " Mo                                0.086194                  0.361247   \n",
      " Cu                                0.024749                  0.200388   \n",
      "V                                  0.066731                  0.636588   \n",
      " Al                               -0.012898                  0.258767   \n",
      " N                                 0.025990                  0.024112   \n",
      "Ceq                               -0.011214                  0.315654   \n",
      "Nb + Ta                           -0.044446                 -0.041306   \n",
      " Temperature (°C)                  1.000000                 -0.428210   \n",
      " 0.2% Proof Stress (MPa)          -0.428210                  1.000000   \n",
      " Tensile Strength (MPa)           -0.328002                  0.480379   \n",
      " Elongation (%)                    0.407870                 -0.713544   \n",
      " Reduction in Area (%)             0.565359                 -0.371440   \n",
      "\n",
      "                           Tensile Strength (MPa)   Elongation (%)  \\\n",
      " C                                       0.123722        -0.148794   \n",
      " Si                                      0.066060        -0.124037   \n",
      " Mn                                      0.115703        -0.123131   \n",
      " P                                       0.014310         0.127121   \n",
      " S                                       0.049277        -0.042973   \n",
      " Ni                                      0.141140        -0.291701   \n",
      " Cr                                      0.122122        -0.303170   \n",
      " Mo                                      0.172995        -0.411885   \n",
      " Cu                                      0.066212        -0.178647   \n",
      "V                                        0.300307        -0.501546   \n",
      " Al                                      0.077277         0.001293   \n",
      " N                                       0.028585        -0.106271   \n",
      "Ceq                                      0.065333        -0.019481   \n",
      "Nb + Ta                                  0.051117        -0.008397   \n",
      " Temperature (°C)                       -0.328002         0.407870   \n",
      " 0.2% Proof Stress (MPa)                 0.480379        -0.713544   \n",
      " Tensile Strength (MPa)                  1.000000        -0.459274   \n",
      " Elongation (%)                         -0.459274         1.000000   \n",
      " Reduction in Area (%)                  -0.437164         0.604215   \n",
      "\n",
      "                           Reduction in Area (%)  \n",
      " C                                     -0.277629  \n",
      " Si                                     0.161944  \n",
      " Mn                                     0.103369  \n",
      " P                                      0.037407  \n",
      " S                                     -0.127908  \n",
      " Ni                                    -0.019360  \n",
      " Cr                                    -0.053949  \n",
      " Mo                                    -0.173894  \n",
      " Cu                                    -0.179090  \n",
      "V                                      -0.210469  \n",
      " Al                                     0.226034  \n",
      " N                                     -0.079783  \n",
      "Ceq                                     0.231229  \n",
      "Nb + Ta                                -0.075792  \n",
      " Temperature (°C)                       0.565359  \n",
      " 0.2% Proof Stress (MPa)               -0.371440  \n",
      " Tensile Strength (MPa)                -0.437164  \n",
      " Elongation (%)                         0.604215  \n",
      " Reduction in Area (%)                  1.000000  \n",
      "- - - - - - - - - - - - - - - - - - - - - - - -\n"
     ]
    }
   ],
   "source": [
    "import quick_eda\n",
    "from quick_eda.df_eda import df_eda\n",
    "\n",
    "df_eda(data)"
   ]
  },
  {
   "cell_type": "code",
   "execution_count": 9,
   "id": "475d7e4b",
   "metadata": {},
   "outputs": [
    {
     "data": {
      "image/png": "[encoded data removed]",
      "text/plain": [
       "<Figure size 1008x1008 with 2 Axes>"
      ]
     },
     "metadata": {
      "needs_background": "light"
     },
     "output_type": "display_data"
    }
   ],
   "source": [
    "corr = data.corr()\n",
    "\n",
    "plt.figure(figsize=(14,14))\n",
    "plt.title(\"Heatmap displaying the correlations between all columns\", fontsize=20)\n",
    "sns.heatmap(corr, center=0, annot=True, cmap=\"YlGnBu\", cbar_kws={'label': 'Correlation Value'})\n",
    "plt.show()"
   ]
  },
  {
   "cell_type": "markdown",
   "id": "c133b17e",
   "metadata": {},
   "source": [
    "1. 0.2% Proof Stress is highly influenced by weight percentage of V(0.64), Ni(0.47), Mn(0.4), Mo(0.36)\n",
    "2. Tensile Strenght is highly influenced by weight percentage of V(0.30)\n",
    "3. Elongation inversedly influenced by weight percentage of V(-0.5), Mo(-0.41), Cr(-0.3), Ni(-0.29)\n",
    "4. Reduction in Area is significantly influenced by weight percentage of AI(0.23) Ceq(0.23, C(-0.28)"
   ]
  },
  {
   "cell_type": "markdown",
   "id": "f38177eb",
   "metadata": {},
   "source": [
    "### Data Preparation For Machine Learning"
   ]
  },
  {
   "cell_type": "code",
   "execution_count": 10,
   "id": "f463bbc5",
   "metadata": {},
   "outputs": [
    {
     "data": {
      "text/html": [
       "<div>\n",
       "<style scoped>\n",
       "    .dataframe tbody tr th:only-of-type {\n",
       "        vertical-align: middle;\n",
       "    }\n",
       "\n",
       "    .dataframe tbody tr th {\n",
       "        vertical-align: top;\n",
       "    }\n",
       "\n",
       "    .dataframe thead th {\n",
       "        text-align: right;\n",
       "    }\n",
       "</style>\n",
       "<table border=\"1\" class=\"dataframe\">\n",
       "  <thead>\n",
       "    <tr style=\"text-align: right;\">\n",
       "      <th></th>\n",
       "      <th>0</th>\n",
       "      <th>1</th>\n",
       "      <th>2</th>\n",
       "      <th>3</th>\n",
       "      <th>4</th>\n",
       "    </tr>\n",
       "  </thead>\n",
       "  <tbody>\n",
       "    <tr>\n",
       "      <th>C</th>\n",
       "      <td>0.1200</td>\n",
       "      <td>0.1200</td>\n",
       "      <td>0.1200</td>\n",
       "      <td>0.1200</td>\n",
       "      <td>0.1200</td>\n",
       "    </tr>\n",
       "    <tr>\n",
       "      <th>Si</th>\n",
       "      <td>0.3600</td>\n",
       "      <td>0.3600</td>\n",
       "      <td>0.3600</td>\n",
       "      <td>0.3600</td>\n",
       "      <td>0.3600</td>\n",
       "    </tr>\n",
       "    <tr>\n",
       "      <th>Mn</th>\n",
       "      <td>0.5200</td>\n",
       "      <td>0.5200</td>\n",
       "      <td>0.5200</td>\n",
       "      <td>0.5200</td>\n",
       "      <td>0.5200</td>\n",
       "    </tr>\n",
       "    <tr>\n",
       "      <th>P</th>\n",
       "      <td>0.0090</td>\n",
       "      <td>0.0090</td>\n",
       "      <td>0.0090</td>\n",
       "      <td>0.0090</td>\n",
       "      <td>0.0090</td>\n",
       "    </tr>\n",
       "    <tr>\n",
       "      <th>S</th>\n",
       "      <td>0.0030</td>\n",
       "      <td>0.0030</td>\n",
       "      <td>0.0030</td>\n",
       "      <td>0.0030</td>\n",
       "      <td>0.0030</td>\n",
       "    </tr>\n",
       "    <tr>\n",
       "      <th>Ni</th>\n",
       "      <td>0.0890</td>\n",
       "      <td>0.0890</td>\n",
       "      <td>0.0890</td>\n",
       "      <td>0.0890</td>\n",
       "      <td>0.0890</td>\n",
       "    </tr>\n",
       "    <tr>\n",
       "      <th>Cr</th>\n",
       "      <td>0.9700</td>\n",
       "      <td>0.9700</td>\n",
       "      <td>0.9700</td>\n",
       "      <td>0.9700</td>\n",
       "      <td>0.9700</td>\n",
       "    </tr>\n",
       "    <tr>\n",
       "      <th>Mo</th>\n",
       "      <td>0.6100</td>\n",
       "      <td>0.6100</td>\n",
       "      <td>0.6100</td>\n",
       "      <td>0.6100</td>\n",
       "      <td>0.6100</td>\n",
       "    </tr>\n",
       "    <tr>\n",
       "      <th>Cu</th>\n",
       "      <td>0.0400</td>\n",
       "      <td>0.0400</td>\n",
       "      <td>0.0400</td>\n",
       "      <td>0.0400</td>\n",
       "      <td>0.0400</td>\n",
       "    </tr>\n",
       "    <tr>\n",
       "      <th>V</th>\n",
       "      <td>0.0000</td>\n",
       "      <td>0.0000</td>\n",
       "      <td>0.0000</td>\n",
       "      <td>0.0000</td>\n",
       "      <td>0.0000</td>\n",
       "    </tr>\n",
       "    <tr>\n",
       "      <th>Al</th>\n",
       "      <td>0.0030</td>\n",
       "      <td>0.0030</td>\n",
       "      <td>0.0030</td>\n",
       "      <td>0.0030</td>\n",
       "      <td>0.0030</td>\n",
       "    </tr>\n",
       "    <tr>\n",
       "      <th>N</th>\n",
       "      <td>0.0066</td>\n",
       "      <td>0.0066</td>\n",
       "      <td>0.0066</td>\n",
       "      <td>0.0066</td>\n",
       "      <td>0.0066</td>\n",
       "    </tr>\n",
       "    <tr>\n",
       "      <th>Ceq</th>\n",
       "      <td>0.0000</td>\n",
       "      <td>0.0000</td>\n",
       "      <td>0.0000</td>\n",
       "      <td>0.0000</td>\n",
       "      <td>0.0000</td>\n",
       "    </tr>\n",
       "    <tr>\n",
       "      <th>Nb + Ta</th>\n",
       "      <td>0.0000</td>\n",
       "      <td>0.0000</td>\n",
       "      <td>0.0000</td>\n",
       "      <td>0.0000</td>\n",
       "      <td>0.0000</td>\n",
       "    </tr>\n",
       "    <tr>\n",
       "      <th>Temperature (°C)</th>\n",
       "      <td>27.0000</td>\n",
       "      <td>100.0000</td>\n",
       "      <td>200.0000</td>\n",
       "      <td>300.0000</td>\n",
       "      <td>400.0000</td>\n",
       "    </tr>\n",
       "    <tr>\n",
       "      <th>0.2% Proof Stress (MPa)</th>\n",
       "      <td>342.0000</td>\n",
       "      <td>338.0000</td>\n",
       "      <td>337.0000</td>\n",
       "      <td>346.0000</td>\n",
       "      <td>316.0000</td>\n",
       "    </tr>\n",
       "    <tr>\n",
       "      <th>Tensile Strength (MPa)</th>\n",
       "      <td>490.0000</td>\n",
       "      <td>454.0000</td>\n",
       "      <td>465.0000</td>\n",
       "      <td>495.0000</td>\n",
       "      <td>489.0000</td>\n",
       "    </tr>\n",
       "    <tr>\n",
       "      <th>Elongation (%)</th>\n",
       "      <td>30.0000</td>\n",
       "      <td>27.0000</td>\n",
       "      <td>23.0000</td>\n",
       "      <td>21.0000</td>\n",
       "      <td>26.0000</td>\n",
       "    </tr>\n",
       "    <tr>\n",
       "      <th>Reduction in Area (%)</th>\n",
       "      <td>71.0000</td>\n",
       "      <td>72.0000</td>\n",
       "      <td>69.0000</td>\n",
       "      <td>70.0000</td>\n",
       "      <td>79.0000</td>\n",
       "    </tr>\n",
       "  </tbody>\n",
       "</table>\n",
       "</div>"
      ],
      "text/plain": [
       "                                 0         1         2         3         4\n",
       " C                          0.1200    0.1200    0.1200    0.1200    0.1200\n",
       " Si                         0.3600    0.3600    0.3600    0.3600    0.3600\n",
       " Mn                         0.5200    0.5200    0.5200    0.5200    0.5200\n",
       " P                          0.0090    0.0090    0.0090    0.0090    0.0090\n",
       " S                          0.0030    0.0030    0.0030    0.0030    0.0030\n",
       " Ni                         0.0890    0.0890    0.0890    0.0890    0.0890\n",
       " Cr                         0.9700    0.9700    0.9700    0.9700    0.9700\n",
       " Mo                         0.6100    0.6100    0.6100    0.6100    0.6100\n",
       " Cu                         0.0400    0.0400    0.0400    0.0400    0.0400\n",
       "V                           0.0000    0.0000    0.0000    0.0000    0.0000\n",
       " Al                         0.0030    0.0030    0.0030    0.0030    0.0030\n",
       " N                          0.0066    0.0066    0.0066    0.0066    0.0066\n",
       "Ceq                         0.0000    0.0000    0.0000    0.0000    0.0000\n",
       "Nb + Ta                     0.0000    0.0000    0.0000    0.0000    0.0000\n",
       " Temperature (°C)          27.0000  100.0000  200.0000  300.0000  400.0000\n",
       " 0.2% Proof Stress (MPa)  342.0000  338.0000  337.0000  346.0000  316.0000\n",
       " Tensile Strength (MPa)   490.0000  454.0000  465.0000  495.0000  489.0000\n",
       " Elongation (%)            30.0000   27.0000   23.0000   21.0000   26.0000\n",
       " Reduction in Area (%)     71.0000   72.0000   69.0000   70.0000   79.0000"
      ]
     },
     "execution_count": 10,
     "metadata": {},
     "output_type": "execute_result"
    }
   ],
   "source": [
    "data = data.drop(columns='Alloy code')\n",
    "data.head().T"
   ]
  },
  {
   "cell_type": "code",
   "execution_count": 11,
   "id": "d8c122ff",
   "metadata": {},
   "outputs": [],
   "source": [
    "X = data.iloc[:,0:15]"
   ]
  },
  {
   "cell_type": "markdown",
   "id": "c6096c74",
   "metadata": {},
   "source": [
    "### Machine Learning for 0.2% Proof Stress"
   ]
  },
  {
   "cell_type": "code",
   "execution_count": 12,
   "id": "8fe7ff13",
   "metadata": {},
   "outputs": [],
   "source": [
    "y = data.iloc[:,15]"
   ]
  },
  {
   "cell_type": "code",
   "execution_count": 13,
   "id": "4afc7500",
   "metadata": {},
   "outputs": [
    {
     "name": "stdout",
     "output_type": "stream",
     "text": [
      "(823, 15)\n",
      "(92, 15)\n",
      "(823,)\n",
      "(92,)\n"
     ]
    }
   ],
   "source": [
    "from sklearn.model_selection import train_test_split\n",
    "\n",
    "X_train, X_test, y_train, y_test = train_test_split(X, y , random_state=1, test_size=0.10)\n",
    "\n",
    "print(X_train.shape)\n",
    "print(X_test.shape)\n",
    "print(y_train.shape)\n",
    "print(y_test.shape)"
   ]
  },
  {
   "cell_type": "code",
   "execution_count": 14,
   "id": "3a5179a3",
   "metadata": {},
   "outputs": [],
   "source": [
    "# feature scaling\n",
    "from sklearn.preprocessing import StandardScaler\n",
    "sc = StandardScaler()\n",
    "X_train = sc.fit_transform(X_train)\n",
    "X_test = sc.transform(X_test)"
   ]
  },
  {
   "cell_type": "markdown",
   "id": "5fe94a9f",
   "metadata": {},
   "source": [
    "#### Linear Regression"
   ]
  },
  {
   "cell_type": "code",
   "execution_count": 15,
   "id": "8a72d7d7",
   "metadata": {},
   "outputs": [
    {
     "name": "stdout",
     "output_type": "stream",
     "text": [
      "r2 score : 0.8936164498681916\n"
     ]
    }
   ],
   "source": [
    "from sklearn.linear_model import LinearRegression\n",
    "from sklearn.metrics import r2_score\n",
    "\n",
    "model = LinearRegression().fit(X_train, y_train)\n",
    "y_pred = model.predict(X_test)\n",
    "r2 = r2_score(y_test, y_pred)\n",
    "print('r2 score : {}'.format(r2))"
   ]
  },
  {
   "cell_type": "markdown",
   "id": "ae3d1f85",
   "metadata": {},
   "source": [
    "#### XGB Regressor"
   ]
  },
  {
   "cell_type": "code",
   "execution_count": 16,
   "id": "a45d3a66",
   "metadata": {},
   "outputs": [
    {
     "name": "stdout",
     "output_type": "stream",
     "text": [
      "Requirement already satisfied: xgboost in c:\\users\\c022\\anaconda3\\lib\\site-packages (1.5.0)\n",
      "Requirement already satisfied: numpy in c:\\users\\c022\\anaconda3\\lib\\site-packages (from xgboost) (1.19.5)\n",
      "Requirement already satisfied: scipy in c:\\users\\c022\\anaconda3\\lib\\site-packages (from xgboost) (1.6.2)\n",
      "Note: you may need to restart the kernel to use updated packages.\n"
     ]
    },
    {
     "name": "stderr",
     "output_type": "stream",
     "text": [
      "WARNING: You are using pip version 21.2.4; however, version 21.3.1 is available.\n",
      "You should consider upgrading via the 'C:\\Users\\C022\\anaconda3\\python.exe -m pip install --upgrade pip' command.\n"
     ]
    }
   ],
   "source": [
    "pip install xgboost"
   ]
  },
  {
   "cell_type": "code",
   "execution_count": 17,
   "id": "d5389ee6",
   "metadata": {},
   "outputs": [
    {
     "name": "stdout",
     "output_type": "stream",
     "text": [
      "r2 score: 0.9752775461794017\n"
     ]
    }
   ],
   "source": [
    "from xgboost import XGBRegressor\n",
    "\n",
    "model = XGBRegressor().fit(X_train,y_train)\n",
    "y_pred= model.predict(X_test)\n",
    "r2 = r2_score(y_test, y_pred)\n",
    "print('r2 score: {}'.format(r2))"
   ]
  },
  {
   "cell_type": "markdown",
   "id": "0f673619",
   "metadata": {},
   "source": [
    "#### Random Forest Regressor"
   ]
  },
  {
   "cell_type": "code",
   "execution_count": 18,
   "id": "1d9ba973",
   "metadata": {},
   "outputs": [
    {
     "name": "stdout",
     "output_type": "stream",
     "text": [
      "r2 score for IoT: 0.9766178235599543\n"
     ]
    }
   ],
   "source": [
    "from sklearn.ensemble import RandomForestRegressor\n",
    "\n",
    "model_IoT = RandomForestRegressor().fit(X_train,y_train)\n",
    "y_pred= model_IoT.predict(X_test)\n",
    "r2_IoT = r2_score(y_test, y_pred)\n",
    "print('r2 score for IoT: {}'.format(r2_IoT))"
   ]
  },
  {
   "cell_type": "markdown",
   "id": "22d1b55a",
   "metadata": {},
   "source": [
    "#### Ridge Regression"
   ]
  },
  {
   "cell_type": "code",
   "execution_count": 19,
   "id": "376db855",
   "metadata": {},
   "outputs": [
    {
     "name": "stdout",
     "output_type": "stream",
     "text": [
      "r2 score: 0.8934986449328584\n"
     ]
    }
   ],
   "source": [
    "from sklearn.linear_model import Ridge\n",
    "\n",
    "model = Ridge().fit(X_train,y_train)\n",
    "y_pred= model.predict(X_test)\n",
    "r2 = r2_score(y_test, y_pred)\n",
    "print('r2 score: {}'.format(r2))"
   ]
  },
  {
   "cell_type": "markdown",
   "id": "d19821c7",
   "metadata": {},
   "source": [
    "#### Lasso Regression"
   ]
  },
  {
   "cell_type": "code",
   "execution_count": 20,
   "id": "67a51d95",
   "metadata": {},
   "outputs": [
    {
     "name": "stdout",
     "output_type": "stream",
     "text": [
      "r2 score: 0.8871725612655726\n"
     ]
    }
   ],
   "source": [
    "from sklearn.linear_model import Lasso\n",
    "\n",
    "model = Lasso().fit(X_train,y_train)\n",
    "y_pred= model.predict(X_test)\n",
    "r2 = r2_score(y_test, y_pred)\n",
    "print('r2 score: {}'.format(r2))"
   ]
  },
  {
   "cell_type": "markdown",
   "id": "07950cff",
   "metadata": {},
   "source": [
    "####  Regression with polynomial basis functions"
   ]
  },
  {
   "cell_type": "code",
   "execution_count": 21,
   "id": "aed4b8c8",
   "metadata": {},
   "outputs": [
    {
     "data": {
      "text/plain": [
       "Pipeline(steps=[('polynomialfeatures',\n",
       "                 PolynomialFeatures(degree=5, include_bias=False)),\n",
       "                ('linearregression', LinearRegression())])"
      ]
     },
     "execution_count": 21,
     "metadata": {},
     "output_type": "execute_result"
    }
   ],
   "source": [
    "from sklearn.preprocessing import PolynomialFeatures\n",
    "from sklearn.pipeline import make_pipeline\n",
    "\n",
    "poly_pipeline = make_pipeline(\n",
    "    PolynomialFeatures(degree=5, include_bias=False), \n",
    "    #MinMaxScaler(), \n",
    "    LinearRegression())\n",
    "poly_pipeline"
   ]
  },
  {
   "cell_type": "code",
   "execution_count": 22,
   "id": "abee2e5f",
   "metadata": {},
   "outputs": [
    {
     "name": "stdout",
     "output_type": "stream",
     "text": [
      "r2 score: 0.8557189147542865\n"
     ]
    }
   ],
   "source": [
    "poly_pipeline.fit(X_train, y_train)\n",
    "y_pred = poly_pipeline.predict(X_test)\n",
    "r2 = r2_score(y_test, y_pred)\n",
    "print('r2 score: {}'.format(r2))"
   ]
  },
  {
   "cell_type": "markdown",
   "id": "b62ddee5",
   "metadata": {},
   "source": [
    "### Machine Learning for Tensile Strenght"
   ]
  },
  {
   "cell_type": "code",
   "execution_count": 23,
   "id": "232dddb0",
   "metadata": {},
   "outputs": [
    {
     "data": {
      "text/plain": [
       "0    490\n",
       "1    454\n",
       "2    465\n",
       "3    495\n",
       "4    489\n",
       "Name:  Tensile Strength (MPa), dtype: int64"
      ]
     },
     "execution_count": 23,
     "metadata": {},
     "output_type": "execute_result"
    }
   ],
   "source": [
    "y = data.iloc[:,16]\n",
    "y.head()"
   ]
  },
  {
   "cell_type": "code",
   "execution_count": 24,
   "id": "2a33e3b9",
   "metadata": {},
   "outputs": [
    {
     "name": "stdout",
     "output_type": "stream",
     "text": [
      "(823, 15)\n",
      "(92, 15)\n",
      "(823,)\n",
      "(92,)\n"
     ]
    }
   ],
   "source": [
    "X_train, X_test, y_train, y_test = train_test_split(X, y , random_state=1, test_size=0.10)\n",
    "\n",
    "print(X_train.shape)\n",
    "print(X_test.shape)\n",
    "print(y_train.shape)\n",
    "print(y_test.shape)"
   ]
  },
  {
   "cell_type": "code",
   "execution_count": 25,
   "id": "a47125bb",
   "metadata": {},
   "outputs": [],
   "source": [
    "# feature scaling\n",
    "from sklearn.preprocessing import StandardScaler\n",
    "sc = StandardScaler()\n",
    "X_train = sc.fit_transform(X_train)\n",
    "X_test = sc.transform(X_test)"
   ]
  },
  {
   "cell_type": "markdown",
   "id": "3854dd00",
   "metadata": {},
   "source": [
    "#### Linear Regression"
   ]
  },
  {
   "cell_type": "code",
   "execution_count": 26,
   "id": "8de87f7b",
   "metadata": {},
   "outputs": [
    {
     "name": "stdout",
     "output_type": "stream",
     "text": [
      "r2 score : 0.6778724350685122\n"
     ]
    }
   ],
   "source": [
    "model = LinearRegression().fit(X_train, y_train)\n",
    "y_pred = model.predict(X_test)\n",
    "r2 = r2_score(y_test, y_pred)\n",
    "print('r2 score : {}'.format(r2))"
   ]
  },
  {
   "cell_type": "markdown",
   "id": "8a242309",
   "metadata": {},
   "source": [
    "#### XGB Regressor"
   ]
  },
  {
   "cell_type": "code",
   "execution_count": 27,
   "id": "e598deee",
   "metadata": {},
   "outputs": [
    {
     "name": "stdout",
     "output_type": "stream",
     "text": [
      "r2 score: 0.9808886058634181\n"
     ]
    }
   ],
   "source": [
    "model = XGBRegressor().fit(X_train,y_train)\n",
    "y_pred= model.predict(X_test)\n",
    "r2 = r2_score(y_test, y_pred)\n",
    "print('r2 score: {}'.format(r2))"
   ]
  },
  {
   "cell_type": "markdown",
   "id": "69d8793b",
   "metadata": {},
   "source": [
    "#### Random Forest Regressor"
   ]
  },
  {
   "cell_type": "code",
   "execution_count": 28,
   "id": "52d3bd5b",
   "metadata": {},
   "outputs": [
    {
     "name": "stdout",
     "output_type": "stream",
     "text": [
      "r2 score: 0.9330817088692908\n"
     ]
    }
   ],
   "source": [
    "model = RandomForestRegressor().fit(X_train,y_train)\n",
    "y_pred= model.predict(X_test)\n",
    "r2 = r2_score(y_test, y_pred)\n",
    "print('r2 score: {}'.format(r2))"
   ]
  },
  {
   "cell_type": "markdown",
   "id": "a3d92ed6",
   "metadata": {},
   "source": [
    "#### Ridge Regressor"
   ]
  },
  {
   "cell_type": "code",
   "execution_count": 29,
   "id": "f97be3f8",
   "metadata": {},
   "outputs": [
    {
     "name": "stdout",
     "output_type": "stream",
     "text": [
      "r2 score: 0.6789788926022712\n"
     ]
    }
   ],
   "source": [
    "model = Ridge().fit(X_train,y_train)\n",
    "y_pred= model.predict(X_test)\n",
    "r2 = r2_score(y_test, y_pred)\n",
    "print('r2 score: {}'.format(r2))"
   ]
  },
  {
   "cell_type": "markdown",
   "id": "f92c2180",
   "metadata": {},
   "source": [
    "#### Lasso Regressor"
   ]
  },
  {
   "cell_type": "code",
   "execution_count": 30,
   "id": "036d9e03",
   "metadata": {},
   "outputs": [
    {
     "name": "stdout",
     "output_type": "stream",
     "text": [
      "r2 score: 0.6945902180365481\n"
     ]
    }
   ],
   "source": [
    "model = Lasso().fit(X_train,y_train)\n",
    "y_pred= model.predict(X_test)\n",
    "r2 = r2_score(y_test, y_pred)\n",
    "print('r2 score: {}'.format(r2))"
   ]
  },
  {
   "cell_type": "markdown",
   "id": "386cb807",
   "metadata": {},
   "source": [
    "#### Regression with polynomial basis functions"
   ]
  },
  {
   "cell_type": "code",
   "execution_count": 31,
   "id": "e9a59770",
   "metadata": {},
   "outputs": [
    {
     "data": {
      "text/plain": [
       "Pipeline(steps=[('polynomialfeatures',\n",
       "                 PolynomialFeatures(degree=3, include_bias=False)),\n",
       "                ('linearregression', LinearRegression())])"
      ]
     },
     "execution_count": 31,
     "metadata": {},
     "output_type": "execute_result"
    }
   ],
   "source": [
    "poly_pipeline = make_pipeline(\n",
    "    PolynomialFeatures(degree=3, include_bias=False), \n",
    "    #MinMaxScaler(), \n",
    "    LinearRegression())\n",
    "poly_pipeline"
   ]
  },
  {
   "cell_type": "code",
   "execution_count": 32,
   "id": "19e0e4db",
   "metadata": {},
   "outputs": [
    {
     "name": "stdout",
     "output_type": "stream",
     "text": [
      "r2 score: 0.6027689220123867\n"
     ]
    }
   ],
   "source": [
    "poly_pipeline.fit(X_train, y_train)\n",
    "y_pred = poly_pipeline.predict(X_test)\n",
    "r2 = r2_score(y_test, y_pred)\n",
    "print('r2 score: {}'.format(r2))"
   ]
  },
  {
   "cell_type": "markdown",
   "id": "76167b95",
   "metadata": {},
   "source": [
    "### Machine Learning for Elongation"
   ]
  },
  {
   "cell_type": "code",
   "execution_count": 33,
   "id": "bcda951d",
   "metadata": {},
   "outputs": [
    {
     "data": {
      "text/plain": [
       "0    30\n",
       "1    27\n",
       "2    23\n",
       "3    21\n",
       "4    26\n",
       "Name:  Elongation (%), dtype: int64"
      ]
     },
     "execution_count": 33,
     "metadata": {},
     "output_type": "execute_result"
    }
   ],
   "source": [
    "y = data.iloc[:,17]\n",
    "y.head()"
   ]
  },
  {
   "cell_type": "code",
   "execution_count": 34,
   "id": "26ac5f94",
   "metadata": {},
   "outputs": [
    {
     "name": "stdout",
     "output_type": "stream",
     "text": [
      "(823, 15)\n",
      "(92, 15)\n",
      "(823,)\n",
      "(92,)\n"
     ]
    }
   ],
   "source": [
    "X_train, X_test, y_train, y_test = train_test_split(X, y , random_state=1, test_size=0.10)\n",
    "\n",
    "print(X_train.shape)\n",
    "print(X_test.shape)\n",
    "print(y_train.shape)\n",
    "print(y_test.shape)"
   ]
  },
  {
   "cell_type": "code",
   "execution_count": 35,
   "id": "1a588858",
   "metadata": {},
   "outputs": [],
   "source": [
    "# feature scaling\n",
    "from sklearn.preprocessing import StandardScaler\n",
    "sc = StandardScaler()\n",
    "X_train = sc.fit_transform(X_train)\n",
    "X_test = sc.transform(X_test)"
   ]
  },
  {
   "cell_type": "markdown",
   "id": "84595c2a",
   "metadata": {},
   "source": [
    "#### Linear regression"
   ]
  },
  {
   "cell_type": "code",
   "execution_count": 36,
   "id": "6ad91780",
   "metadata": {},
   "outputs": [
    {
     "name": "stdout",
     "output_type": "stream",
     "text": [
      "r2 score : 0.5849954641655182\n"
     ]
    }
   ],
   "source": [
    "model = LinearRegression().fit(X_train, y_train)\n",
    "y_pred = model.predict(X_test)\n",
    "r2 = r2_score(y_test, y_pred)\n",
    "print('r2 score : {}'.format(r2))"
   ]
  },
  {
   "cell_type": "markdown",
   "id": "2417c998",
   "metadata": {},
   "source": [
    "#### XGB Regressor"
   ]
  },
  {
   "cell_type": "code",
   "execution_count": 37,
   "id": "ed568b4c",
   "metadata": {},
   "outputs": [
    {
     "name": "stdout",
     "output_type": "stream",
     "text": [
      "r2 score: 0.9296589202903535\n"
     ]
    }
   ],
   "source": [
    "model = XGBRegressor().fit(X_train,y_train)\n",
    "y_pred= model.predict(X_test)\n",
    "r2 = r2_score(y_test, y_pred)\n",
    "print('r2 score: {}'.format(r2))"
   ]
  },
  {
   "cell_type": "markdown",
   "id": "cf90d7f4",
   "metadata": {},
   "source": [
    "#### Random Forest Regressor"
   ]
  },
  {
   "cell_type": "code",
   "execution_count": 38,
   "id": "c53e4ebe",
   "metadata": {},
   "outputs": [
    {
     "name": "stdout",
     "output_type": "stream",
     "text": [
      "r2 score: 0.9188829071068335\n"
     ]
    }
   ],
   "source": [
    "model = RandomForestRegressor().fit(X_train,y_train)\n",
    "y_pred= model.predict(X_test)\n",
    "r2 = r2_score(y_test, y_pred)\n",
    "print('r2 score: {}'.format(r2))"
   ]
  },
  {
   "cell_type": "markdown",
   "id": "b852d4bd",
   "metadata": {},
   "source": [
    "#### Ridge Regressor"
   ]
  },
  {
   "cell_type": "code",
   "execution_count": 39,
   "id": "e0a8bf63",
   "metadata": {},
   "outputs": [
    {
     "name": "stdout",
     "output_type": "stream",
     "text": [
      "r2 score: 0.5848037266441437\n"
     ]
    }
   ],
   "source": [
    "model = Ridge().fit(X_train,y_train)\n",
    "y_pred= model.predict(X_test)\n",
    "r2 = r2_score(y_test, y_pred)\n",
    "print('r2 score: {}'.format(r2))"
   ]
  },
  {
   "cell_type": "markdown",
   "id": "bad32c83",
   "metadata": {},
   "source": [
    "#### Lasso Regressor"
   ]
  },
  {
   "cell_type": "code",
   "execution_count": 40,
   "id": "d8cf524e",
   "metadata": {},
   "outputs": [
    {
     "name": "stdout",
     "output_type": "stream",
     "text": [
      "r2 score: 0.47086058181186785\n"
     ]
    }
   ],
   "source": [
    "model = Lasso().fit(X_train,y_train)\n",
    "y_pred= model.predict(X_test)\n",
    "r2 = r2_score(y_test, y_pred)\n",
    "print('r2 score: {}'.format(r2))"
   ]
  },
  {
   "cell_type": "markdown",
   "id": "fbabb786",
   "metadata": {},
   "source": [
    "#### Regression with polynomial basis functions"
   ]
  },
  {
   "cell_type": "code",
   "execution_count": null,
   "id": "bc91c676",
   "metadata": {},
   "outputs": [],
   "source": [
    "poly_pipeline = make_pipeline(\n",
    "    PolynomialFeatures(degree=3, include_bias=False), \n",
    "    #MinMaxScaler(), \n",
    "    LinearRegression())\n",
    "poly_pipeline"
   ]
  },
  {
   "cell_type": "code",
   "execution_count": 54,
   "id": "77f912a7",
   "metadata": {},
   "outputs": [
    {
     "name": "stdout",
     "output_type": "stream",
     "text": [
      "r2 score: 0.7618642685497006\n"
     ]
    }
   ],
   "source": [
    "poly_pipeline.fit(X_train, y_train)\n",
    "y_pred = poly_pipeline.predict(X_test)\n",
    "r2 = r2_score(y_test, y_pred)\n",
    "print('r2 score: {}'.format(r2))"
   ]
  },
  {
   "cell_type": "markdown",
   "id": "1a3a2e39",
   "metadata": {},
   "source": [
    "### Machine Learning for Reduction in Area"
   ]
  },
  {
   "cell_type": "code",
   "execution_count": 44,
   "id": "f4bdb324",
   "metadata": {},
   "outputs": [
    {
     "data": {
      "text/plain": [
       "0    71\n",
       "1    72\n",
       "2    69\n",
       "3    70\n",
       "4    79\n",
       "Name:  Reduction in Area (%), dtype: int64"
      ]
     },
     "execution_count": 44,
     "metadata": {},
     "output_type": "execute_result"
    }
   ],
   "source": [
    "y = data.iloc[:,18]\n",
    "y.head()"
   ]
  },
  {
   "cell_type": "code",
   "execution_count": 45,
   "id": "39af6f0c",
   "metadata": {},
   "outputs": [
    {
     "name": "stdout",
     "output_type": "stream",
     "text": [
      "(823, 15)\n",
      "(92, 15)\n",
      "(823,)\n",
      "(92,)\n"
     ]
    }
   ],
   "source": [
    "X_train, X_test, y_train, y_test = train_test_split(X, y , random_state=1, test_size=0.10)\n",
    "\n",
    "print(X_train.shape)\n",
    "print(X_test.shape)\n",
    "print(y_train.shape)\n",
    "print(y_test.shape)"
   ]
  },
  {
   "cell_type": "code",
   "execution_count": 46,
   "id": "78d95d94",
   "metadata": {},
   "outputs": [],
   "source": [
    "# feature scaling\n",
    "from sklearn.preprocessing import StandardScaler\n",
    "sc = StandardScaler()\n",
    "X_train = sc.fit_transform(X_train)\n",
    "X_test = sc.transform(X_test)"
   ]
  },
  {
   "cell_type": "markdown",
   "id": "5ff25361",
   "metadata": {},
   "source": [
    "#### Linear Regression"
   ]
  },
  {
   "cell_type": "code",
   "execution_count": 47,
   "id": "7f8e4d94",
   "metadata": {},
   "outputs": [
    {
     "name": "stdout",
     "output_type": "stream",
     "text": [
      "r2 score : 0.5148150237763445\n"
     ]
    }
   ],
   "source": [
    "model = LinearRegression().fit(X_train, y_train)\n",
    "y_pred = model.predict(X_test)\n",
    "r2 = r2_score(y_test, y_pred)\n",
    "print('r2 score : {}'.format(r2))"
   ]
  },
  {
   "cell_type": "markdown",
   "id": "9c2b8b87",
   "metadata": {},
   "source": [
    "#### XGB Regressor"
   ]
  },
  {
   "cell_type": "code",
   "execution_count": 48,
   "id": "5bec87d9",
   "metadata": {},
   "outputs": [
    {
     "name": "stdout",
     "output_type": "stream",
     "text": [
      "r2 score: 0.824757205408122\n"
     ]
    }
   ],
   "source": [
    "model = XGBRegressor().fit(X_train,y_train)\n",
    "y_pred= model.predict(X_test)\n",
    "r2 = r2_score(y_test, y_pred)\n",
    "print('r2 score: {}'.format(r2))"
   ]
  },
  {
   "cell_type": "markdown",
   "id": "1c8033ca",
   "metadata": {},
   "source": [
    "#### Random Forest Regressor"
   ]
  },
  {
   "cell_type": "code",
   "execution_count": 49,
   "id": "c880d8e5",
   "metadata": {},
   "outputs": [
    {
     "name": "stdout",
     "output_type": "stream",
     "text": [
      "r2 score: 0.7979003631273528\n"
     ]
    }
   ],
   "source": [
    "model = RandomForestRegressor().fit(X_train,y_train)\n",
    "y_pred= model.predict(X_test)\n",
    "r2 = r2_score(y_test, y_pred)\n",
    "print('r2 score: {}'.format(r2))"
   ]
  },
  {
   "cell_type": "markdown",
   "id": "ad4edd1c",
   "metadata": {},
   "source": [
    "#### Ridge Regressor"
   ]
  },
  {
   "cell_type": "code",
   "execution_count": 50,
   "id": "a30267f0",
   "metadata": {},
   "outputs": [
    {
     "name": "stdout",
     "output_type": "stream",
     "text": [
      "r2 score: 0.5150178932868762\n"
     ]
    }
   ],
   "source": [
    "model = Ridge().fit(X_train,y_train)\n",
    "y_pred= model.predict(X_test)\n",
    "r2 = r2_score(y_test, y_pred)\n",
    "print('r2 score: {}'.format(r2))"
   ]
  },
  {
   "cell_type": "markdown",
   "id": "3e2a8ad1",
   "metadata": {},
   "source": [
    "#### Lasso Regressor"
   ]
  },
  {
   "cell_type": "code",
   "execution_count": 51,
   "id": "4b4e0d77",
   "metadata": {},
   "outputs": [
    {
     "name": "stdout",
     "output_type": "stream",
     "text": [
      "r2 score: 0.41363086618170264\n"
     ]
    }
   ],
   "source": [
    "model = Lasso().fit(X_train,y_train)\n",
    "y_pred= model.predict(X_test)\n",
    "r2 = r2_score(y_test, y_pred)\n",
    "print('r2 score: {}'.format(r2))"
   ]
  },
  {
   "cell_type": "markdown",
   "id": "d9ee17f9",
   "metadata": {},
   "source": [
    "#### Regression with polynomial basis functions"
   ]
  },
  {
   "cell_type": "code",
   "execution_count": 53,
   "id": "45fc54dc",
   "metadata": {},
   "outputs": [
    {
     "data": {
      "text/plain": [
       "Pipeline(steps=[('polynomialfeatures',\n",
       "                 PolynomialFeatures(degree=3, include_bias=False)),\n",
       "                ('linearregression', LinearRegression())])"
      ]
     },
     "execution_count": 53,
     "metadata": {},
     "output_type": "execute_result"
    }
   ],
   "source": [
    "poly_pipeline = make_pipeline(\n",
    "    PolynomialFeatures(degree=3, include_bias=False), \n",
    "    #MinMaxScaler(), \n",
    "    LinearRegression())\n",
    "poly_pipeline"
   ]
  },
  {
   "cell_type": "code",
   "execution_count": 55,
   "id": "b6ee9961",
   "metadata": {},
   "outputs": [
    {
     "name": "stdout",
     "output_type": "stream",
     "text": [
      "r2 score: 0.7618642685497006\n"
     ]
    }
   ],
   "source": [
    "poly_pipeline.fit(X_train, y_train)\n",
    "y_pred = poly_pipeline.predict(X_test)\n",
    "r2 = r2_score(y_test, y_pred)\n",
    "print('r2 score: {}'.format(r2))"
   ]
  },
  {
   "cell_type": "code",
   "execution_count": null,
   "id": "7c57d998",
   "metadata": {},
   "outputs": [],
   "source": []
  }
 ],
 "metadata": {
  "kernelspec": {
   "display_name": "Python 3",
   "language": "python",
   "name": "python3"
  },
  "language_info": {
   "codemirror_mode": {
    "name": "ipython",
    "version": 3
   },
   "file_extension": ".py",
   "mimetype": "text/x-python",
   "name": "python",
   "nbconvert_exporter": "python",
   "pygments_lexer": "ipython3",
   "version": "3.8.8"
  }
 },
 "nbformat": 4,
 "nbformat_minor": 5
}
